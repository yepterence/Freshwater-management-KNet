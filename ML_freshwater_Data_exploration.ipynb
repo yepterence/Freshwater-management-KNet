{
 "cells": [
  {
   "cell_type": "markdown",
   "metadata": {
    "colab_type": "text",
    "id": "view-in-github"
   },
   "source": [
    "<a href=\"https://colab.research.google.com/github/yepterence/Freshwater-management-KNet/blob/main/ML_freshwater_Data_exploration.ipynb\" target=\"_parent\"><img src=\"https://colab.research.google.com/assets/colab-badge.svg\" alt=\"Open In Colab\"/></a>"
   ]
  },
  {
   "cell_type": "code",
   "execution_count": 1,
   "metadata": {
    "id": "8gHdSLqOm-IO"
   },
   "outputs": [],
   "source": [
    "# from google.colab import drive\n",
    "import os \n",
    "import sys\n",
    "import pandas as pd \n",
    "import glob\n",
    "import numpy as np \n",
    "import matplotlib.pyplot as plt\n",
    "from datetime import datetime as dt\n",
    "import cartopy\n",
    "import cartopy.feature as cfeature\n",
    "import cartopy.crs as ccrs\n",
    "import seaborn as sns "
   ]
  },
  {
   "cell_type": "code",
   "execution_count": 2,
   "metadata": {
    "id": "SQw20jCDpkUX"
   },
   "outputs": [],
   "source": [
    "# PATH = '/content/drive/MyDrive/ColabNotebooks/ML_freshwater_management_project/data/Lake_Water_Level/'\n",
    "PATH = os.getcwd() + '/data/'\n",
    "files = os.listdir(PATH)\n",
    "# get list of only csv files\n",
    "csv_files = glob.glob(PATH+\"*.csv\")\n",
    "\n",
    "# create a dictionary with key as the DF name and values as DataFrames \n",
    "df_collection = {}\n",
    "csv_names = []\n",
    "for i in csv_files:\n",
    "    name = i[:-4]\n",
    "    csv_names.append(name)\n",
    "    \n",
    "zip_object = zip(csv_names, csv_files)\n",
    "for name, file in zip_object:\n",
    "    df_collection[name] = pd.read_csv(file, low_memory=False)\n"
   ]
  },
  {
   "cell_type": "code",
   "execution_count": 3,
   "metadata": {
    "colab": {
     "base_uri": "https://localhost:8080/",
     "height": 206
    },
    "id": "LhkrR9V0xfTN",
    "outputId": "d07d8a07-3449-4d78-94c4-e7335b77891e"
   },
   "outputs": [
    {
     "data": {
      "text/html": [
       "<div>\n",
       "<style scoped>\n",
       "    .dataframe tbody tr th:only-of-type {\n",
       "        vertical-align: middle;\n",
       "    }\n",
       "\n",
       "    .dataframe tbody tr th {\n",
       "        vertical-align: top;\n",
       "    }\n",
       "\n",
       "    .dataframe thead th {\n",
       "        text-align: right;\n",
       "    }\n",
       "</style>\n",
       "<table border=\"1\" class=\"dataframe\">\n",
       "  <thead>\n",
       "    <tr style=\"text-align: right;\">\n",
       "      <th></th>\n",
       "      <th>Date (YYYYMMDD)</th>\n",
       "      <th>Lake_name</th>\n",
       "      <th>Latitude</th>\n",
       "      <th>Longitude</th>\n",
       "      <th>Relaive_orbit</th>\n",
       "      <th>Lake water level (m)</th>\n",
       "    </tr>\n",
       "  </thead>\n",
       "  <tbody>\n",
       "    <tr>\n",
       "      <th>0</th>\n",
       "      <td>20180512</td>\n",
       "      <td>Athabasca</td>\n",
       "      <td>59.365696</td>\n",
       "      <td>-107.680063</td>\n",
       "      <td>98</td>\n",
       "      <td>209.3384</td>\n",
       "    </tr>\n",
       "    <tr>\n",
       "      <th>1</th>\n",
       "      <td>20180512</td>\n",
       "      <td>Athabasca</td>\n",
       "      <td>59.362814</td>\n",
       "      <td>-107.682010</td>\n",
       "      <td>98</td>\n",
       "      <td>209.5665</td>\n",
       "    </tr>\n",
       "    <tr>\n",
       "      <th>2</th>\n",
       "      <td>20180512</td>\n",
       "      <td>Athabasca</td>\n",
       "      <td>59.359931</td>\n",
       "      <td>-107.683956</td>\n",
       "      <td>98</td>\n",
       "      <td>209.6700</td>\n",
       "    </tr>\n",
       "    <tr>\n",
       "      <th>3</th>\n",
       "      <td>20180512</td>\n",
       "      <td>Athabasca</td>\n",
       "      <td>59.357049</td>\n",
       "      <td>-107.685902</td>\n",
       "      <td>98</td>\n",
       "      <td>209.5169</td>\n",
       "    </tr>\n",
       "    <tr>\n",
       "      <th>4</th>\n",
       "      <td>20180512</td>\n",
       "      <td>Athabasca</td>\n",
       "      <td>59.354166</td>\n",
       "      <td>-107.687848</td>\n",
       "      <td>98</td>\n",
       "      <td>209.4275</td>\n",
       "    </tr>\n",
       "  </tbody>\n",
       "</table>\n",
       "</div>"
      ],
      "text/plain": [
       "   Date (YYYYMMDD)  Lake_name   Latitude   Longitude  Relaive_orbit  \\\n",
       "0         20180512  Athabasca  59.365696 -107.680063             98   \n",
       "1         20180512  Athabasca  59.362814 -107.682010             98   \n",
       "2         20180512  Athabasca  59.359931 -107.683956             98   \n",
       "3         20180512  Athabasca  59.357049 -107.685902             98   \n",
       "4         20180512  Athabasca  59.354166 -107.687848             98   \n",
       "\n",
       "   Lake water level (m)  \n",
       "0              209.3384  \n",
       "1              209.5665  \n",
       "2              209.6700  \n",
       "3              209.5169  \n",
       "4              209.4275  "
      ]
     },
     "execution_count": 3,
     "metadata": {},
     "output_type": "execute_result"
    }
   ],
   "source": [
    "full_df = pd.concat(df_collection.values())\n",
    "full_df.head()"
   ]
  },
  {
   "cell_type": "code",
   "execution_count": 4,
   "metadata": {
    "colab": {
     "base_uri": "https://localhost:8080/",
     "height": 206
    },
    "id": "czqkRAsSyyTV",
    "outputId": "89933aa7-04cb-4b3f-b34b-d20264ba9478"
   },
   "outputs": [
    {
     "data": {
      "text/html": [
       "<div>\n",
       "<style scoped>\n",
       "    .dataframe tbody tr th:only-of-type {\n",
       "        vertical-align: middle;\n",
       "    }\n",
       "\n",
       "    .dataframe tbody tr th {\n",
       "        vertical-align: top;\n",
       "    }\n",
       "\n",
       "    .dataframe thead th {\n",
       "        text-align: right;\n",
       "    }\n",
       "</style>\n",
       "<table border=\"1\" class=\"dataframe\">\n",
       "  <thead>\n",
       "    <tr style=\"text-align: right;\">\n",
       "      <th></th>\n",
       "      <th>date</th>\n",
       "      <th>l_name</th>\n",
       "      <th>lat</th>\n",
       "      <th>long</th>\n",
       "      <th>rel_orb</th>\n",
       "      <th>water_level</th>\n",
       "    </tr>\n",
       "  </thead>\n",
       "  <tbody>\n",
       "    <tr>\n",
       "      <th>0</th>\n",
       "      <td>2018-05-12</td>\n",
       "      <td>Athabasca</td>\n",
       "      <td>59.365696</td>\n",
       "      <td>-107.680063</td>\n",
       "      <td>98</td>\n",
       "      <td>209.34</td>\n",
       "    </tr>\n",
       "    <tr>\n",
       "      <th>1</th>\n",
       "      <td>2018-05-12</td>\n",
       "      <td>Athabasca</td>\n",
       "      <td>59.362814</td>\n",
       "      <td>-107.682010</td>\n",
       "      <td>98</td>\n",
       "      <td>209.57</td>\n",
       "    </tr>\n",
       "    <tr>\n",
       "      <th>2</th>\n",
       "      <td>2018-05-12</td>\n",
       "      <td>Athabasca</td>\n",
       "      <td>59.359931</td>\n",
       "      <td>-107.683956</td>\n",
       "      <td>98</td>\n",
       "      <td>209.67</td>\n",
       "    </tr>\n",
       "    <tr>\n",
       "      <th>3</th>\n",
       "      <td>2018-05-12</td>\n",
       "      <td>Athabasca</td>\n",
       "      <td>59.357049</td>\n",
       "      <td>-107.685902</td>\n",
       "      <td>98</td>\n",
       "      <td>209.52</td>\n",
       "    </tr>\n",
       "    <tr>\n",
       "      <th>4</th>\n",
       "      <td>2018-05-12</td>\n",
       "      <td>Athabasca</td>\n",
       "      <td>59.354166</td>\n",
       "      <td>-107.687848</td>\n",
       "      <td>98</td>\n",
       "      <td>209.43</td>\n",
       "    </tr>\n",
       "  </tbody>\n",
       "</table>\n",
       "</div>"
      ],
      "text/plain": [
       "        date     l_name        lat        long  rel_orb  water_level\n",
       "0 2018-05-12  Athabasca  59.365696 -107.680063       98       209.34\n",
       "1 2018-05-12  Athabasca  59.362814 -107.682010       98       209.57\n",
       "2 2018-05-12  Athabasca  59.359931 -107.683956       98       209.67\n",
       "3 2018-05-12  Athabasca  59.357049 -107.685902       98       209.52\n",
       "4 2018-05-12  Athabasca  59.354166 -107.687848       98       209.43"
      ]
     },
     "execution_count": 4,
     "metadata": {},
     "output_type": "execute_result"
    }
   ],
   "source": [
    "full_df.columns = ['date','l_name','lat','long','rel_orb','water_level']\n",
    "full_df.loc[:,'date'] = pd.to_datetime(full_df.loc[:,'date'], format = \"%Y%m%d\")\n",
    "full_df['water_level'] = full_df.loc[:,'water_level'].round(2)\n",
    "full_df.head()"
   ]
  },
  {
   "cell_type": "code",
   "execution_count": 5,
   "metadata": {
    "colab": {
     "base_uri": "https://localhost:8080/"
    },
    "id": "i1EHGDFiynK8",
    "outputId": "d163ca3d-7878-47e5-aa05-b402556d5f39"
   },
   "outputs": [
    {
     "name": "stdout",
     "output_type": "stream",
     "text": [
      "Sentinel 3A,3B df shape: \n",
      "(662669, 6)\n",
      "----------------\n",
      "<class 'pandas.core.frame.DataFrame'>\n",
      "Int64Index: 662669 entries, 0 to 353062\n",
      "Data columns (total 6 columns):\n",
      " #   Column       Non-Null Count   Dtype         \n",
      "---  ------       --------------   -----         \n",
      " 0   date         662669 non-null  datetime64[ns]\n",
      " 1   l_name       662669 non-null  object        \n",
      " 2   lat          662669 non-null  float64       \n",
      " 3   long         662669 non-null  float64       \n",
      " 4   rel_orb      662669 non-null  int64         \n",
      " 5   water_level  662669 non-null  float64       \n",
      "dtypes: datetime64[ns](1), float64(3), int64(1), object(1)\n",
      "memory usage: 35.4+ MB\n",
      "None\n",
      "----------------\n",
      "date           datetime64[ns]\n",
      "l_name                 object\n",
      "lat                   float64\n",
      "long                  float64\n",
      "rel_orb                 int64\n",
      "water_level           float64\n",
      "dtype: object\n"
     ]
    }
   ],
   "source": [
    "print(f\"Sentinel 3A,3B df shape: \\n{full_df.shape}\")\n",
    "print(\"----------------\")\n",
    "print(full_df.info())\n",
    "print(\"----------------\")\n",
    "print(full_df.dtypes)"
   ]
  },
  {
   "cell_type": "code",
   "execution_count": 6,
   "metadata": {
    "colab": {
     "base_uri": "https://localhost:8080/"
    },
    "id": "W93ABXYY2nwq",
    "outputId": "1eb3f546-0abc-4b7f-b5e9-ea4fbd2a361e"
   },
   "outputs": [
    {
     "name": "stdout",
     "output_type": "stream",
     "text": [
      "Null values in df: \n",
      " date           0.0\n",
      "l_name         0.0\n",
      "lat            0.0\n",
      "long           0.0\n",
      "rel_orb        0.0\n",
      "water_level    0.0\n",
      "dtype: float64 \n",
      " ----------------\n",
      "Value counts for: \n",
      "date        l_name       lat        long         rel_orb  water_level\n",
      "2016-04-01  Great Slave  61.028141  -116.662292  284      155.09         1\n",
      "2019-08-29  Winnipeg     51.633749  -97.256979   317      216.79         1\n",
      "                         52.055566  -97.457515   317      217.11         1\n",
      "                         52.058416  -97.458881   317      217.11         1\n",
      "                         52.061264  -97.460247   317      217.13         1\n",
      "                                                                        ..\n",
      "2018-06-25  Great Slave  61.099777  -114.960883  346      156.89         1\n",
      "                         61.102576  -114.962968  346      156.73         1\n",
      "                         61.105373  -114.965053  346      156.73         1\n",
      "                         61.108172  -114.967139  346      156.81         1\n",
      "2021-09-29  Great Slave  62.526710  -115.152073  18       156.72         1\n",
      "Length: 662669, dtype: int64 \n",
      "----------------\n",
      "Describe data: \n",
      "                  lat           long        rel_orb    water_level\n",
      "count  662669.000000  662669.000000  662669.000000  662669.000000\n",
      "mean       57.524059    -107.036546     195.033723     210.330829\n",
      "std         4.539098       8.179743     122.040310      83.888818\n",
      "min        48.854859    -133.164241       4.000000      96.250000\n",
      "25%        53.037866    -114.254100      75.000000     156.640000\n",
      "50%        59.322776    -109.883524     189.000000     209.300000\n",
      "75%        61.637094     -98.152210     317.000000     217.430000\n",
      "max        62.955760     -93.893094     384.000000     911.690000 \n",
      " --------------\n"
     ]
    }
   ],
   "source": [
    "print(f\"Null values in df: \\n {full_df.isnull().sum()/ full_df.shape[0]} \\n ----------------\")\n",
    "print(f\"Value counts for: \\n{full_df.value_counts()} \\n----------------\")\n",
    "print(f\"Describe data: \\n {full_df.describe()} \\n --------------\")"
   ]
  },
  {
   "cell_type": "code",
   "execution_count": 7,
   "metadata": {
    "colab": {
     "base_uri": "https://localhost:8080/"
    },
    "id": "HJGnCb_B27Jy",
    "outputId": "a15f6724-e71c-4e32-b5fc-c433b0369cb2"
   },
   "outputs": [
    {
     "name": "stdout",
     "output_type": "stream",
     "text": [
      "['Athabasca' 'Cedar' 'Great Slave' 'Kiskittogisu' 'Lesser Slave' 'Nonacho'\n",
      " 'Teslin' 'Winnipeg' 'Woods']\n"
     ]
    }
   ],
   "source": [
    "dataset_lakes=full_df.l_name.unique()\n",
    "print(dataset_lakes)"
   ]
  },
  {
   "cell_type": "code",
   "execution_count": 8,
   "metadata": {
    "id": "DdyN-KQ3gdvN"
   },
   "outputs": [],
   "source": [
    "# create df for each lake\n",
    "for l in dataset_lakes:\n",
    "  f_var = l.lower() + \"_df\"\n",
    "  locals()[f_var] = full_df[full_df['l_name']==l]\n"
   ]
  },
  {
   "cell_type": "code",
   "execution_count": 9,
   "metadata": {
    "colab": {
     "base_uri": "https://localhost:8080/",
     "height": 310
    },
    "id": "vFSYnvk4u4i_",
    "outputId": "d487bc37-27f3-4b7c-e93a-ee3fd2840081"
   },
   "outputs": [
    {
     "name": "stderr",
     "output_type": "stream",
     "text": [
      "/tmp/ipykernel_5791/2361754549.py:1: SettingWithCopyWarning: \n",
      "A value is trying to be set on a copy of a slice from a DataFrame.\n",
      "Try using .loc[row_indexer,col_indexer] = value instead\n",
      "\n",
      "See the caveats in the documentation: https://pandas.pydata.org/pandas-docs/stable/user_guide/indexing.html#returning-a-view-versus-a-copy\n",
      "  athabasca_df['no_year'] = athabasca_df['date'].map(lambda x: x.strftime('%m-%d'))\n"
     ]
    },
    {
     "data": {
      "text/html": [
       "<div>\n",
       "<style scoped>\n",
       "    .dataframe tbody tr th:only-of-type {\n",
       "        vertical-align: middle;\n",
       "    }\n",
       "\n",
       "    .dataframe tbody tr th {\n",
       "        vertical-align: top;\n",
       "    }\n",
       "\n",
       "    .dataframe thead th {\n",
       "        text-align: right;\n",
       "    }\n",
       "</style>\n",
       "<table border=\"1\" class=\"dataframe\">\n",
       "  <thead>\n",
       "    <tr style=\"text-align: right;\">\n",
       "      <th></th>\n",
       "      <th>date</th>\n",
       "      <th>l_name</th>\n",
       "      <th>lat</th>\n",
       "      <th>long</th>\n",
       "      <th>rel_orb</th>\n",
       "      <th>water_level</th>\n",
       "      <th>no_year</th>\n",
       "    </tr>\n",
       "  </thead>\n",
       "  <tbody>\n",
       "    <tr>\n",
       "      <th>0</th>\n",
       "      <td>2018-05-12</td>\n",
       "      <td>Athabasca</td>\n",
       "      <td>59.365696</td>\n",
       "      <td>-107.680063</td>\n",
       "      <td>98</td>\n",
       "      <td>209.34</td>\n",
       "      <td>05-12</td>\n",
       "    </tr>\n",
       "    <tr>\n",
       "      <th>1</th>\n",
       "      <td>2018-05-12</td>\n",
       "      <td>Athabasca</td>\n",
       "      <td>59.362814</td>\n",
       "      <td>-107.682010</td>\n",
       "      <td>98</td>\n",
       "      <td>209.57</td>\n",
       "      <td>05-12</td>\n",
       "    </tr>\n",
       "    <tr>\n",
       "      <th>2</th>\n",
       "      <td>2018-05-12</td>\n",
       "      <td>Athabasca</td>\n",
       "      <td>59.359931</td>\n",
       "      <td>-107.683956</td>\n",
       "      <td>98</td>\n",
       "      <td>209.67</td>\n",
       "      <td>05-12</td>\n",
       "    </tr>\n",
       "    <tr>\n",
       "      <th>3</th>\n",
       "      <td>2018-05-12</td>\n",
       "      <td>Athabasca</td>\n",
       "      <td>59.357049</td>\n",
       "      <td>-107.685902</td>\n",
       "      <td>98</td>\n",
       "      <td>209.52</td>\n",
       "      <td>05-12</td>\n",
       "    </tr>\n",
       "    <tr>\n",
       "      <th>4</th>\n",
       "      <td>2018-05-12</td>\n",
       "      <td>Athabasca</td>\n",
       "      <td>59.354166</td>\n",
       "      <td>-107.687848</td>\n",
       "      <td>98</td>\n",
       "      <td>209.43</td>\n",
       "      <td>05-12</td>\n",
       "    </tr>\n",
       "  </tbody>\n",
       "</table>\n",
       "</div>"
      ],
      "text/plain": [
       "        date     l_name        lat        long  rel_orb  water_level no_year\n",
       "0 2018-05-12  Athabasca  59.365696 -107.680063       98       209.34   05-12\n",
       "1 2018-05-12  Athabasca  59.362814 -107.682010       98       209.57   05-12\n",
       "2 2018-05-12  Athabasca  59.359931 -107.683956       98       209.67   05-12\n",
       "3 2018-05-12  Athabasca  59.357049 -107.685902       98       209.52   05-12\n",
       "4 2018-05-12  Athabasca  59.354166 -107.687848       98       209.43   05-12"
      ]
     },
     "execution_count": 9,
     "metadata": {},
     "output_type": "execute_result"
    }
   ],
   "source": [
    "athabasca_df['no_year'] = athabasca_df['date'].map(lambda x: x.strftime('%m-%d'))\n",
    "athabasca_df.head()"
   ]
  },
  {
   "cell_type": "code",
   "execution_count": 10,
   "metadata": {
    "colab": {
     "base_uri": "https://localhost:8080/"
    },
    "id": "TOLQFyW8gdo9",
    "outputId": "6a193372-e2f4-4a7c-e634-2003c1330b84"
   },
   "outputs": [
    {
     "data": {
      "text/plain": [
       "array([ 27, 303, 132])"
      ]
     },
     "execution_count": 10,
     "metadata": {},
     "output_type": "execute_result"
    }
   ],
   "source": [
    "april_lake_level_atha = athabasca_df[athabasca_df['month_day']=='04-03']\n",
    "april_lake_level_atha.rel_orb.unique()\n"
   ]
  },
  {
   "cell_type": "markdown",
   "metadata": {
    "id": "Af5ag7OquxxZ"
   },
   "source": []
  },
  {
   "cell_type": "code",
   "execution_count": null,
   "metadata": {},
   "outputs": [],
   "source": [
    "def find_lake_edges(df):\n",
    "    \"\"\" Takes input dataframe and outputs a dataframe \n",
    "    truncated at datapoints that are near the edge of the lake\"\"\"\n",
    "#     edges of lake\n",
    "# check if lat and long are in list of lat or long \n",
    "    return None"
   ]
  },
  {
   "cell_type": "code",
   "execution_count": 13,
   "metadata": {},
   "outputs": [
    {
     "data": {
      "text/plain": [
       "array([59.365696, 59.362814, 59.359931, ..., 59.060263, 59.057448,\n",
       "       59.054633])"
      ]
     },
     "execution_count": 13,
     "metadata": {},
     "output_type": "execute_result"
    }
   ],
   "source": [
    "np.array(athabasca_df['lat'])"
   ]
  },
  {
   "cell_type": "code",
   "execution_count": 11,
   "metadata": {
    "colab": {
     "base_uri": "https://localhost:8080/"
    },
    "id": "BvMOaGeIMqsU",
    "outputId": "2ccdcd8b-b8bd-4c28-8980-da2c03865d1e"
   },
   "outputs": [
    {
     "data": {
      "image/png": "[encoded data removed]",
      "text/plain": [
       "<Figure size 1440x864 with 1 Axes>"
      ]
     },
     "metadata": {
      "needs_background": "light"
     },
     "output_type": "display_data"
    }
   ],
   "source": [
    "extent = [athabasca_df['long'].min(), athabasca_df['long'].max(), athabasca_df['lat'].min(), athabasca_df['lat'].max()]\n",
    "central_long = np.mean(extent[:2])\n",
    "central_lat = np.mean(extent[2:])\n",
    "\n",
    "lake_features = cfeature.NaturalEarthFeature('physical', 'lakes', '10m')\n",
    "\n",
    "fig = plt.figure(figsize=(20,12))\n",
    "ax=fig.add_subplot(111, projection=ccrs.PlateCarree())\n",
    "ax.set_extent(extent)\n",
    "ax.set_title('Athabasca lake ground track')\n",
    "ax.add_feature(cartopy.feature.LAND, edgecolor = 'green')\n",
    "ax.add_feature(cartopy.feature.RIVERS)\n",
    "ax.add_feature(lake_features,facecolor='lightblue',edgecolor='black')\n",
    "\n",
    "ax.scatter(\n",
    "    x=np.array(athabasca_df['long']),\n",
    "    y=np.array(athabasca_df['lat']),\n",
    "    color='darkblue',\n",
    "    zorder=10,\n",
    "    s=1\n",
    ")\n",
    "\n",
    "g1 = ax.gridlines(draw_labels=True)\n",
    "g1.top_labels = False\n",
    "g1.right_labels = False\n",
    "# plt.legend()\n",
    "plt.show()"
   ]
  },
  {
   "cell_type": "code",
   "execution_count": 12,
   "metadata": {
    "id": "dOumXv_Kgdjf"
   },
   "outputs": [
    {
     "name": "stdout",
     "output_type": "stream",
     "text": [
      "Mean: 211.91 \n",
      " -------------\n",
      "Standard deviation: 14.97 \n",
      "---------------\n"
     ]
    }
   ],
   "source": [
    "mean_water_level = athabasca_df['water_level'].mean() \n",
    "water_level_std = athabasca_df['water_level'].std()\n",
    "print(\"Mean: %0.2f \\n -------------\" % mean_water_level)\n",
    "print(\"Standard deviation: %0.2f \\n---------------\" % water_level_std)"
   ]
  },
  {
   "cell_type": "code",
   "execution_count": 13,
   "metadata": {
    "id": "V1Ym12HVgdSs"
   },
   "outputs": [
    {
     "data": {
      "text/html": [
       "<div>\n",
       "<style scoped>\n",
       "    .dataframe tbody tr th:only-of-type {\n",
       "        vertical-align: middle;\n",
       "    }\n",
       "\n",
       "    .dataframe tbody tr th {\n",
       "        vertical-align: top;\n",
       "    }\n",
       "\n",
       "    .dataframe thead th {\n",
       "        text-align: right;\n",
       "    }\n",
       "</style>\n",
       "<table border=\"1\" class=\"dataframe\">\n",
       "  <thead>\n",
       "    <tr style=\"text-align: right;\">\n",
       "      <th></th>\n",
       "      <th>lat</th>\n",
       "      <th>long</th>\n",
       "      <th>rel_orb</th>\n",
       "      <th>water_level</th>\n",
       "    </tr>\n",
       "  </thead>\n",
       "  <tbody>\n",
       "    <tr>\n",
       "      <th>count</th>\n",
       "      <td>78869.000000</td>\n",
       "      <td>78869.000000</td>\n",
       "      <td>78869.000000</td>\n",
       "      <td>78869.000000</td>\n",
       "    </tr>\n",
       "    <tr>\n",
       "      <th>mean</th>\n",
       "      <td>59.187504</td>\n",
       "      <td>-109.395453</td>\n",
       "      <td>176.160291</td>\n",
       "      <td>211.907877</td>\n",
       "    </tr>\n",
       "    <tr>\n",
       "      <th>std</th>\n",
       "      <td>0.224923</td>\n",
       "      <td>0.941723</td>\n",
       "      <td>110.750948</td>\n",
       "      <td>14.966108</td>\n",
       "    </tr>\n",
       "    <tr>\n",
       "      <th>min</th>\n",
       "      <td>58.606485</td>\n",
       "      <td>-111.020154</td>\n",
       "      <td>13.000000</td>\n",
       "      <td>178.560000</td>\n",
       "    </tr>\n",
       "    <tr>\n",
       "      <th>25%</th>\n",
       "      <td>59.069385</td>\n",
       "      <td>-110.147481</td>\n",
       "      <td>84.000000</td>\n",
       "      <td>208.690000</td>\n",
       "    </tr>\n",
       "    <tr>\n",
       "      <th>50%</th>\n",
       "      <td>59.230874</td>\n",
       "      <td>-109.432827</td>\n",
       "      <td>189.000000</td>\n",
       "      <td>209.080000</td>\n",
       "    </tr>\n",
       "    <tr>\n",
       "      <th>75%</th>\n",
       "      <td>59.348444</td>\n",
       "      <td>-108.621583</td>\n",
       "      <td>246.000000</td>\n",
       "      <td>209.630000</td>\n",
       "    </tr>\n",
       "    <tr>\n",
       "      <th>max</th>\n",
       "      <td>59.619522</td>\n",
       "      <td>-106.110810</td>\n",
       "      <td>360.000000</td>\n",
       "      <td>434.690000</td>\n",
       "    </tr>\n",
       "  </tbody>\n",
       "</table>\n",
       "</div>"
      ],
      "text/plain": [
       "                lat          long       rel_orb   water_level\n",
       "count  78869.000000  78869.000000  78869.000000  78869.000000\n",
       "mean      59.187504   -109.395453    176.160291    211.907877\n",
       "std        0.224923      0.941723    110.750948     14.966108\n",
       "min       58.606485   -111.020154     13.000000    178.560000\n",
       "25%       59.069385   -110.147481     84.000000    208.690000\n",
       "50%       59.230874   -109.432827    189.000000    209.080000\n",
       "75%       59.348444   -108.621583    246.000000    209.630000\n",
       "max       59.619522   -106.110810    360.000000    434.690000"
      ]
     },
     "execution_count": 13,
     "metadata": {},
     "output_type": "execute_result"
    }
   ],
   "source": [
    "athabasca_df.describe()"
   ]
  },
  {
   "cell_type": "code",
   "execution_count": 18,
   "metadata": {},
   "outputs": [
    {
     "data": {
      "text/plain": [
       "Int64Index([    0,     1,     2,     3,     4,     5,     6,     7,     8,\n",
       "                9,\n",
       "            ...\n",
       "            45361, 45362, 45363, 45364, 45365, 45366, 45367, 45368, 45369,\n",
       "            45370],\n",
       "           dtype='int64', length=78869)"
      ]
     },
     "execution_count": 18,
     "metadata": {},
     "output_type": "execute_result"
    }
   ],
   "source": []
  },
  {
   "cell_type": "code",
   "execution_count": null,
   "metadata": {
    "id": "YoN5lCTI_8uH"
   },
   "outputs": [],
   "source": []
  },
  {
   "cell_type": "code",
   "execution_count": null,
   "metadata": {
    "id": "OFqIomrkCDST"
   },
   "outputs": [],
   "source": []
  },
  {
   "cell_type": "code",
   "execution_count": null,
   "metadata": {
    "id": "Qwi2uWFE75Es"
   },
   "outputs": [],
   "source": []
  },
  {
   "cell_type": "code",
   "execution_count": null,
   "metadata": {
    "id": "L9o9g5UvskSv"
   },
   "outputs": [],
   "source": []
  }
 ],
 "metadata": {
  "colab": {
   "authorship_tag": "ABX9TyPbhyR01+/n+QSjdlpWSaLC",
   "collapsed_sections": [],
   "include_colab_link": true,
   "mount_file_id": "1YxjO0BJsKFrsJd82Jds3Mta49HRV4zRZ",
   "name": "ML-freshwater-Data-exploration.ipynb",
   "provenance": [],
   "toc_visible": true
  },
  "kernelspec": {
   "display_name": "geo-data",
   "language": "python",
   "name": "geo-data"
  },
  "language_info": {
   "codemirror_mode": {
    "name": "ipython",
    "version": 3
   },
   "file_extension": ".py",
   "mimetype": "text/x-python",
   "name": "python",
   "nbconvert_exporter": "python",
   "pygments_lexer": "ipython3",
   "version": "3.8.13"
  }
 },
 "nbformat": 4,
 "nbformat_minor": 1
}
